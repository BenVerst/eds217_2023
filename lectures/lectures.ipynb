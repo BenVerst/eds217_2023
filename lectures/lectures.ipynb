{
 "cells": [
  {
   "cell_type": "markdown",
   "metadata": {},
   "source": [
    "# EDS 217 Lectures\n",
    "\n",
    "This page contains links to lecture materials for EDS 217.\n",
    "\n",
    "### [Lecture 0: Introduction to Python Data Science](00_Intro_to_Python_Slides.ipynb)\n",
    "\n",
    "### [Lecture 1: The Zen of Python](01_The_Zen_of_Python.ipynb)\n",
    "\n",
    "### [Lecture 2: Getting Help](02_HelpGPT.ipynb)\n",
    "\n",
    "### [Lecture 3: Dry vs. Wet code](03_Dry_vs_Wet.ipynb)"
   ]
  }
 ],
 "metadata": {
  "language_info": {
   "name": "python"
  },
  "orig_nbformat": 4
 },
 "nbformat": 4,
 "nbformat_minor": 2
}
